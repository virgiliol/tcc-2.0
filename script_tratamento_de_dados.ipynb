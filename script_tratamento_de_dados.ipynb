{
  "nbformat": 4,
  "nbformat_minor": 0,
  "metadata": {
    "colab": {
      "name": "script tratamento de dados.ipynb",
      "provenance": [],
      "mount_file_id": "1cA3EVssbH81Wnm2WdaHlXhMK43lcA_-7",
      "authorship_tag": "ABX9TyO1W85wwn4PVwN+OvU+zw5p",
      "include_colab_link": true
    },
    "kernelspec": {
      "name": "python3",
      "display_name": "Python 3"
    },
    "language_info": {
      "name": "python"
    }
  },
  "cells": [
    {
      "cell_type": "markdown",
      "metadata": {
        "id": "view-in-github",
        "colab_type": "text"
      },
      "source": [
        "<a href=\"https://colab.research.google.com/github/virgiliol/tcc-2.0/blob/main/script_tratamento_de_dados.ipynb\" target=\"_parent\"><img src=\"https://colab.research.google.com/assets/colab-badge.svg\" alt=\"Open In Colab\"/></a>"
      ]
    },
    {
      "cell_type": "markdown",
      "source": [
        "# Importação dos dados"
      ],
      "metadata": {
        "id": "IkkbkmX-eLaX"
      }
    },
    {
      "cell_type": "code",
      "metadata": {
        "id": "nWvIcticlCs2"
      },
      "source": [
        "import numpy as np\n",
        "import pandas as pd"
      ],
      "execution_count": null,
      "outputs": []
    },
    {
      "cell_type": "code",
      "metadata": {
        "id": "LRIrwcC8kUhT"
      },
      "source": [
        "respostasf2 = pd.read_csv('/content/drive/MyDrive/TCC 2.0/Respostas.csv',\n",
        "                    sep=',', encoding='utf-8')\n",
        "# encoding: codificação de caracteres, normalmente utiliza-se o iso-8859-1, utf-8, latin-1)"
      ],
      "execution_count": null,
      "outputs": []
    },
    {
      "cell_type": "code",
      "execution_count": null,
      "metadata": {
        "id": "AKCkWfmveG4a"
      },
      "outputs": [],
      "source": [
        "respostasf2.head()"
      ]
    },
    {
      "cell_type": "markdown",
      "source": [
        "# Renomeação das colunas/variáveis"
      ],
      "metadata": {
        "id": "J0MM7rU3juE9"
      }
    },
    {
      "cell_type": "code",
      "source": [
        "#lista dos novos rótulos das variáveis\n",
        "columns_rename = [\n",
        "    'Timestamp', \n",
        "    'Aceita',\n",
        "    'Email',\n",
        "    'Idade',\n",
        "    'Genero',\n",
        "    'Estado',\n",
        "    'Cor',\n",
        "    'Titulacao',\n",
        "    'TempoTitulacao',\n",
        "    'AreaAtuacao',\n",
        "    'AtuacaoProfissional',    \n",
        "    'AtuacaoPeD',\n",
        "    'AtualOcupacao',\n",
        "    'TempoAtualOcupacao',\n",
        "    'Internacional',\n",
        "    'ExpInternacional',\n",
        "    'FamiliarizarPredatorio',\n",
        "    'ITMensagem',\n",
        "    'ITParesPreparadosReferencia',\n",
        "    'ITParesPreparadosEscolhaLocal',\n",
        "    'ITOfertaCurtoPrazo',\n",
        "    'ITFacilDiferenciarPred',\n",
        "    'ITComunidadeDiscuteEvitar',\n",
        "    'ITComunidadeListagem',\n",
        "    'IndiciosPredatismo',\n",
        "    'ConhecerLista',\n",
        "    'ExperienciaPredatismo',\n",
        "    'DESCExperienciaPred',\n",
        "    'CriteriosEscolhaPeriodico',\n",
        "    'DESCPassosEscolhaPeriodico',\n",
        "    'QualisMelhorPublicacao',\n",
        "    'PressaoPulicacao',\n",
        "    'QtArtQuinquenio',\n",
        "    'ParticipaPPG',\n",
        "    'NomePrograma',\n",
        "    'Instituicao',\n",
        "    'EsferaInstituicao',\n",
        "    'ParticipacaoPrograma',\n",
        "    'TempoParticipaPrograma',\n",
        "    'SuportePPG',\n",
        "    'InformePredatismoPPG',\n",
        "    'Sugestoes'   \n",
        "    \n",
        "]\n",
        "type(columns_rename)"
      ],
      "metadata": {
        "id": "hxa1BcR_jcTn"
      },
      "execution_count": null,
      "outputs": []
    },
    {
      "cell_type": "code",
      "metadata": {
        "id": "2HBVkuUV8Tub"
      },
      "source": [
        "respostasf2.columns=columns_rename"
      ],
      "execution_count": null,
      "outputs": []
    },
    {
      "cell_type": "code",
      "source": [
        "respostasf2.head()"
      ],
      "metadata": {
        "id": "DzBsRMcolWui"
      },
      "execution_count": null,
      "outputs": []
    },
    {
      "cell_type": "code",
      "source": [
        "respostasf2.shape"
      ],
      "metadata": {
        "id": "KJ1zIFoOoB4I"
      },
      "execution_count": null,
      "outputs": []
    },
    {
      "cell_type": "markdown",
      "source": [
        "# Excluindo variáveis"
      ],
      "metadata": {
        "id": "VofTYdjElrmD"
      }
    },
    {
      "cell_type": "code",
      "source": [
        "# Criando dataframe secundário para tratamento\n",
        "respostasf2_alterado = respostasf2"
      ],
      "metadata": {
        "id": "wdRBRoJSna9O"
      },
      "execution_count": null,
      "outputs": []
    },
    {
      "cell_type": "code",
      "metadata": {
        "id": "1vRFMwrf-iCY"
      },
      "source": [
        "# Excluindo variáveis\n",
        "respostasf2_alterado = respostasf2_alterado.drop(columns=['Timestamp','Aceita','Email',])"
      ],
      "execution_count": null,
      "outputs": []
    },
    {
      "cell_type": "code",
      "source": [
        "respostasf2_alterado.head(2)"
      ],
      "metadata": {
        "id": "JFk2yZXjohNy"
      },
      "execution_count": null,
      "outputs": []
    },
    {
      "cell_type": "markdown",
      "source": [
        "# Tratando valores NAN"
      ],
      "metadata": {
        "id": "fAs2w9iZo8fK"
      }
    },
    {
      "cell_type": "code",
      "metadata": {
        "id": "A24U7d5QYPaV"
      },
      "source": [
        "# Quantidade de valores nulos em cada variável\n",
        "respostasf2_alterado.isnull().sum()"
      ],
      "execution_count": null,
      "outputs": []
    },
    {
      "cell_type": "markdown",
      "source": [
        "## Tratando ExpInternacional"
      ],
      "metadata": {
        "id": "Vav9kO0prljM"
      }
    },
    {
      "cell_type": "code",
      "metadata": {
        "id": "VN1PUng2PUl0"
      },
      "source": [
        "respostasf2_alterado.Internacional.value_counts()"
      ],
      "execution_count": null,
      "outputs": []
    },
    {
      "cell_type": "code",
      "metadata": {
        "id": "WitNfrC6IzGI"
      },
      "source": [
        "# Substituindo vazios por 'Não teve\"\n",
        "respostasf2_alterado.ExpInternacional.fillna('Não teve', inplace=True)"
      ],
      "execution_count": null,
      "outputs": []
    },
    {
      "cell_type": "code",
      "source": [
        "respostasf2_alterado.ExpInternacional"
      ],
      "metadata": {
        "id": "5So_6-pIrxdD"
      },
      "execution_count": null,
      "outputs": []
    },
    {
      "cell_type": "markdown",
      "source": [
        "## Tratando variável DESCExperienciaPred "
      ],
      "metadata": {
        "id": "hSDBmbJ7u1Tf"
      }
    },
    {
      "cell_type": "code",
      "source": [
        "respostasf2_alterado.ExperienciaPredatismo.value_counts()"
      ],
      "metadata": {
        "id": "_S8bQBthu75y"
      },
      "execution_count": null,
      "outputs": []
    },
    {
      "cell_type": "code",
      "metadata": {
        "id": "nn59aXPVv89H"
      },
      "source": [
        "# Substituindo vazios por 'Sem descrição'\n",
        "respostasf2_alterado.DESCExperienciaPred.fillna('Sem descrição', inplace=True)"
      ],
      "execution_count": null,
      "outputs": []
    },
    {
      "cell_type": "code",
      "source": [
        "respostasf2_alterado.DESCExperienciaPred"
      ],
      "metadata": {
        "id": "hF0jrSu1wMUr"
      },
      "execution_count": null,
      "outputs": []
    },
    {
      "cell_type": "markdown",
      "source": [
        "## Tratamento variável DESCPassosEscolhaPeriodico"
      ],
      "metadata": {
        "id": "LYfyo6KPx8df"
      }
    },
    {
      "cell_type": "code",
      "metadata": {
        "id": "97ECaaQUyZpB"
      },
      "source": [
        "# Substituindo vazios por 'Sem descrição'\n",
        "respostasf2_alterado.DESCPassosEscolhaPeriodico.fillna('Sem descrição', inplace=True)"
      ],
      "execution_count": null,
      "outputs": []
    },
    {
      "cell_type": "code",
      "source": [
        "respostasf2_alterado.DESCPassosEscolhaPeriodico"
      ],
      "metadata": {
        "id": "TqnD0z06yGu5"
      },
      "execution_count": null,
      "outputs": []
    },
    {
      "cell_type": "markdown",
      "source": [
        "## Tratando variável Sugestoes"
      ],
      "metadata": {
        "id": "KOjgxiai0HCq"
      }
    },
    {
      "cell_type": "code",
      "source": [
        "respostasf2_alterado.Sugestoes.value_counts()"
      ],
      "metadata": {
        "id": "aSmYUHtG0PzT"
      },
      "execution_count": null,
      "outputs": []
    },
    {
      "cell_type": "code",
      "source": [
        "# Substituindo vazios por 'SEM SUGESTÕES'\n",
        "respostasf2_alterado.Sugestoes.fillna('SEM SUGESTÕES', inplace=True)"
      ],
      "metadata": {
        "id": "OsU7HvJ10uAG"
      },
      "execution_count": null,
      "outputs": []
    },
    {
      "cell_type": "markdown",
      "source": [
        "## Tratando variáveis relacionadas ao PPG"
      ],
      "metadata": {
        "id": "GepUAN5YwlOW"
      }
    },
    {
      "cell_type": "code",
      "metadata": {
        "id": "42_arr6P3jNS"
      },
      "source": [
        "# Quantidade de valores nulos em cada variável\n",
        "respostasf2_alterado.isnull().sum()"
      ],
      "execution_count": null,
      "outputs": []
    },
    {
      "cell_type": "code",
      "source": [
        "# Substituindo vazios por 'Sem PPG'\n",
        "respostasf2_alterado['NomePrograma'].fillna('Sem PPG', inplace=True)\n",
        "respostasf2_alterado['Instituicao'].fillna('Sem PPG', inplace=True)\n",
        "respostasf2_alterado['EsferaInstituicao'].fillna('Sem PPG', inplace=True)\n",
        "respostasf2_alterado['ParticipacaoPrograma'].fillna('Sem PPG', inplace=True)\n",
        "respostasf2_alterado['TempoParticipaPrograma'].fillna('Sem PPG', inplace=True)\n",
        "respostasf2_alterado['SuportePPG'].fillna('Sem PPG', inplace=True)\n",
        "respostasf2_alterado['InformePredatismoPPG'].fillna('Sem PPG', inplace=True)"
      ],
      "metadata": {
        "id": "XOfqxZNv3BY2"
      },
      "execution_count": null,
      "outputs": []
    },
    {
      "cell_type": "markdown",
      "source": [
        "# Exportando o DataFrame tratado"
      ],
      "metadata": {
        "id": "gJ3J_DtL7OTe"
      }
    },
    {
      "cell_type": "code",
      "metadata": {
        "id": "lpVkk2e9XXuF"
      },
      "source": [
        "respostasf2_alterado.to_excel('respostasf2_tratado.xlsx')"
      ],
      "execution_count": null,
      "outputs": []
    }
  ]
}