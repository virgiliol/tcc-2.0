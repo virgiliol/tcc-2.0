{
  "nbformat": 4,
  "nbformat_minor": 0,
  "metadata": {
    "kernelspec": {
      "display_name": "Python 3",
      "language": "python",
      "name": "python3"
    },
    "language_info": {
      "codemirror_mode": {
        "name": "ipython",
        "version": 3
      },
      "file_extension": ".py",
      "mimetype": "text/x-python",
      "name": "python",
      "nbconvert_exporter": "python",
      "pygments_lexer": "ipython3",
      "version": "3.7.4"
    },
    "colab": {
      "name": "Correlação  de Atributos.ipynb",
      "provenance": [],
      "collapsed_sections": [
        "HnQKftPdTCAO"
      ],
      "include_colab_link": true
    }
  },
  "cells": [
    {
      "cell_type": "markdown",
      "metadata": {
        "id": "view-in-github",
        "colab_type": "text"
      },
      "source": [
        "<a href=\"https://colab.research.google.com/github/virgiliol/tcc-2.0/blob/main/Correla%C3%A7%C3%A3o_de_Atributos.ipynb\" target=\"_parent\"><img src=\"https://colab.research.google.com/assets/colab-badge.svg\" alt=\"Open In Colab\"/></a>"
      ]
    },
    {
      "cell_type": "markdown",
      "source": [
        "# Importação de Bibliotecas e Dados"
      ],
      "metadata": {
        "id": "HnQKftPdTCAO"
      }
    },
    {
      "cell_type": "code",
      "metadata": {
        "id": "4ewl6AVCnC1h"
      },
      "source": [
        "import pandas as pd\n",
        "import numpy as np\n",
        "import scipy.stats as stats\n",
        "from scipy.stats import chi2_contingency"
      ],
      "execution_count": 1,
      "outputs": []
    },
    {
      "cell_type": "code",
      "source": [
        "from google.colab import drive\n",
        "drive.mount('/content/drive')"
      ],
      "metadata": {
        "colab": {
          "base_uri": "https://localhost:8080/"
        },
        "id": "LK-PnIHFjW8g",
        "outputId": "f8fe6838-ba42-4079-a043-eae00b5d9d4c"
      },
      "execution_count": 2,
      "outputs": [
        {
          "output_type": "stream",
          "name": "stdout",
          "text": [
            "Mounted at /content/drive\n"
          ]
        }
      ]
    },
    {
      "cell_type": "code",
      "metadata": {
        "scrolled": true,
        "id": "miDb79MEnC2A"
      },
      "source": [
        "df = pd.read_excel('/content/drive/MyDrive/TCC 2.0/respostas_tratado.xlsx' )"
      ],
      "execution_count": 3,
      "outputs": []
    },
    {
      "cell_type": "markdown",
      "source": [
        "#Clase de teste Quiquadrado de Pearson"
      ],
      "metadata": {
        "id": "iRFWv1mCSJ0E"
      }
    },
    {
      "cell_type": "code",
      "metadata": {
        "id": "YP2BbaNtnC2F"
      },
      "source": [
        "class ChiSquare:\n",
        "    def __init__(self, dataframe):\n",
        "        self.df = dataframe\n",
        "        self.p = None #P-Value\n",
        "        self.chi2 = None #Chi Test Statistic\n",
        "        self.dof = None\n",
        "        \n",
        "        self.dfObserved = None\n",
        "        self.dfExpected = None\n",
        "    def _print_chisquare_result(self, colX, alpha, colY):\n",
        "        result = \"\"\n",
        "        if self.p<alpha:\n",
        "            result=\"{0} e {1}: SIGNIFICATIVO\\n\".format(colY,colX)\n",
        "            p = round(self.p, 5)\n",
        "            print(result, p)\n",
        "            \n",
        "        else:\n",
        "            result= '{0} e {1}: NÃO SIGNIFICATIVO\\n'.format(colY,colX)\n",
        "            p = round(self.p, 10)\n",
        "            print(result, p)\n",
        "       \n",
        "    def TestIndependence(self,colX,colY, alpha=0.01):\n",
        "        X = self.df[colX].astype(str)\n",
        "        Y = self.df[colY].astype(str)\n",
        "        \n",
        "        self.dfObserved = pd.crosstab(Y,X) \n",
        "        chi2, p, dof, expected = stats.chi2_contingency(self.dfObserved.values)\n",
        "        self.p = p\n",
        "        self.chi2 = chi2\n",
        "        self.dof = dof \n",
        "        \n",
        "        self.dfExpected = pd.DataFrame(expected, columns=self.dfObserved.columns, index = self.dfObserved.index)\n",
        "        \n",
        "        self._print_chisquare_result(colX,alpha,colY)"
      ],
      "execution_count": 25,
      "outputs": []
    },
    {
      "cell_type": "markdown",
      "metadata": {
        "id": "tygIS8vdnC2N"
      },
      "source": [
        "# Correlação com o atributo **Familiaridade com o predatismo**"
      ]
    },
    {
      "cell_type": "code",
      "metadata": {
        "id": "DxQFzKtqnC2I"
      },
      "source": [
        "#Variáveis a serem testadas\n",
        "testColumns = ['ConhecerLista',\n",
        "               'Titulacao',\n",
        "               'ParticipaPPG',\n",
        "               'AtuacaoProfissional',\n",
        "               'AtuacaoPeD',\n",
        "               'AtualOcupacao',\n",
        "               'InformePredatismoPPG',\n",
        "               'Internacional',\n",
        "               'ExperienciaPredatismo',\n",
        "               'EsferaInstituicao',\n",
        "               'QualisMelhorPublicacao',\n",
        "               'QtArtQuinquenio',\n",
        "               'ParticipacaoPrograma',\n",
        "               'SuportePPG']"
      ],
      "execution_count": 38,
      "outputs": []
    },
    {
      "cell_type": "code",
      "metadata": {
        "scrolled": true,
        "id": "oMv7VSCKnC2R"
      },
      "source": [
        "#Rodando a classe ChiSquare passsando as variáveis e o atributo\n",
        "cT = ChiSquare(df)\n",
        "\n",
        "for var in testColumns:\n",
        "    cT.TestIndependence(colX=var,colY='FamiliarizarPredatorio') "
      ],
      "execution_count": null,
      "outputs": []
    },
    {
      "cell_type": "markdown",
      "source": [
        "# Correlação com o atributo **Experiência com Predatismo**"
      ],
      "metadata": {
        "id": "D0bJ7G30mvhJ"
      }
    },
    {
      "cell_type": "code",
      "metadata": {
        "id": "UQVrhdGBd5-a"
      },
      "source": [
        "#Variáveis a serem testadas\n",
        "testColumns = ['PressaoPulicacao',\n",
        "               'QtArtQuinquenio',\n",
        "               'CriteriosEscolhaPeriodico',\n",
        "               'QualisMelhorPublicacao',\n",
        "               'ConhecerLista',\n",
        "               'Titulacao',\n",
        "               'InformePredatismoPPG',\n",
        "               'SuportePPG']"
      ],
      "execution_count": 42,
      "outputs": []
    },
    {
      "cell_type": "code",
      "metadata": {
        "scrolled": true,
        "id": "zwR979lydX6E"
      },
      "source": [
        "#Rodando a classe ChiSquare passsando as variáveis e o atributo\n",
        "cT = ChiSquare(df)\n",
        "\n",
        "for var in testColumns:\n",
        "    cT.TestIndependence(colX=var,colY='ExperienciaPredatismo') "
      ],
      "execution_count": null,
      "outputs": []
    }
  ]
}