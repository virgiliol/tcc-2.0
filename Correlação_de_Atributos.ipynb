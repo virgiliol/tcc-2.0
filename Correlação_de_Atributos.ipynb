{
  "nbformat": 4,
  "nbformat_minor": 0,
  "metadata": {
    "kernelspec": {
      "display_name": "Python 3",
      "language": "python",
      "name": "python3"
    },
    "language_info": {
      "codemirror_mode": {
        "name": "ipython",
        "version": 3
      },
      "file_extension": ".py",
      "mimetype": "text/x-python",
      "name": "python",
      "nbconvert_exporter": "python",
      "pygments_lexer": "ipython3",
      "version": "3.7.4"
    },
    "colab": {
      "name": "Correlação  de Atributos.ipynb",
      "provenance": [],
      "include_colab_link": true
    }
  },
  "cells": [
    {
      "cell_type": "markdown",
      "metadata": {
        "id": "view-in-github",
        "colab_type": "text"
      },
      "source": [
        "<a href=\"https://colab.research.google.com/github/virgiliol/tcc-2.0/blob/main/Correla%C3%A7%C3%A3o_de_Atributos.ipynb\" target=\"_parent\"><img src=\"https://colab.research.google.com/assets/colab-badge.svg\" alt=\"Open In Colab\"/></a>"
      ]
    },
    {
      "cell_type": "markdown",
      "source": [
        "# Importação de Bibliotecas e Dados"
      ],
      "metadata": {
        "id": "HnQKftPdTCAO"
      }
    },
    {
      "cell_type": "code",
      "metadata": {
        "id": "4ewl6AVCnC1h"
      },
      "source": [
        "import pandas as pd\n",
        "import numpy as np\n",
        "import scipy.stats as stats\n",
        "from scipy.stats import chi2_contingency"
      ],
      "execution_count": null,
      "outputs": []
    },
    {
      "cell_type": "code",
      "source": [
        "from google.colab import drive\n",
        "drive.mount('/content/drive')"
      ],
      "metadata": {
        "id": "uKYsZ65hPxFr"
      },
      "execution_count": null,
      "outputs": []
    },
    {
      "cell_type": "code",
      "metadata": {
        "scrolled": true,
        "id": "miDb79MEnC2A"
      },
      "source": [
        "df = pd.read_excel('/content/drive/MyDrive/TCC 2.0/respostasf2_tratado.xlsx' )"
      ],
      "execution_count": null,
      "outputs": []
    },
    {
      "cell_type": "markdown",
      "source": [
        "#Clase de teste Quiquadrado de Pearson"
      ],
      "metadata": {
        "id": "iRFWv1mCSJ0E"
      }
    },
    {
      "cell_type": "code",
      "metadata": {
        "id": "YP2BbaNtnC2F"
      },
      "source": [
        "class ChiSquare:\n",
        "    def __init__(self, dataframe):\n",
        "        self.df = dataframe\n",
        "        self.p = None #P-Value\n",
        "        self.chi2 = None #Chi Test Statistic\n",
        "        self.dof = None\n",
        "        \n",
        "        self.dfObserved = None\n",
        "        self.dfExpected = None\n",
        "    def _print_chisquare_result(self, colX, alpha, colY):\n",
        "        result = \"\"\n",
        "        if self.p<alpha:\n",
        "            result=\"{0} e {1}: SIGNIFICATIVO\\n\".format(colY,colX)\n",
        "            p = round(self.p, 5)\n",
        "            print(result, p)\n",
        "            \n",
        "        else:\n",
        "            result= '{0} e {1}: NÃO SIGNIFICATIVO\\n'.format(colY,colX)\n",
        "            p = round(self.p, 5)\n",
        "            print(result, p)\n",
        "       \n",
        "    def TestIndependence(self,colX,colY, alpha=0.05):\n",
        "        X = self.df[colX].astype(str)\n",
        "        Y = self.df[colY].astype(str)\n",
        "        \n",
        "        self.dfObserved = pd.crosstab(Y,X) \n",
        "        chi2, p, dof, expected = stats.chi2_contingency(self.dfObserved.values)\n",
        "        self.p = p\n",
        "        self.chi2 = chi2\n",
        "        self.dof = dof \n",
        "        \n",
        "        self.dfExpected = pd.DataFrame(expected, columns=self.dfObserved.columns, index = self.dfObserved.index)\n",
        "        \n",
        "        self._print_chisquare_result(colX,alpha,colY)"
      ],
      "execution_count": null,
      "outputs": []
    },
    {
      "cell_type": "markdown",
      "metadata": {
        "id": "tygIS8vdnC2N"
      },
      "source": [
        "# Correlação com atributo Familiaridade com o predatismo"
      ]
    },
    {
      "cell_type": "code",
      "metadata": {
        "id": "DxQFzKtqnC2I"
      },
      "source": [
        "#Variáveis a serem testadas\n",
        "testColumns = ['ConhecerLista','Titulacao','Estado']"
      ],
      "execution_count": null,
      "outputs": []
    },
    {
      "cell_type": "code",
      "metadata": {
        "scrolled": true,
        "id": "oMv7VSCKnC2R",
        "colab": {
          "base_uri": "https://localhost:8080/"
        },
        "outputId": "69837115-a5f9-411a-b322-3ce1c1d10a36"
      },
      "source": [
        "#Rodando a classe ChiSquare passsando as variáveis e o atributo\n",
        "cT = ChiSquare(df)\n",
        "\n",
        "for var in testColumns:\n",
        "    cT.TestIndependence(colX=var,colY='FamiliarizarPredatorio') "
      ],
      "execution_count": null,
      "outputs": [
        {
          "output_type": "stream",
          "name": "stdout",
          "text": [
            "FamiliarizarPredatorio e ConhecerLista: NÃO SIGNIFICATIVO\n",
            " 0.09915\n",
            "FamiliarizarPredatorio e Titulacao: SIGNIFICATIVO\n",
            " 0.01852\n",
            "FamiliarizarPredatorio e Estado: NÃO SIGNIFICATIVO\n",
            " 0.73706\n"
          ]
        }
      ]
    }
  ]
}