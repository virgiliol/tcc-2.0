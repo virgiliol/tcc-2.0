{
  "nbformat": 4,
  "nbformat_minor": 0,
  "metadata": {
    "colab": {
      "name": "Análise exploratória.ipynb",
      "provenance": [],
      "collapsed_sections": [
        "W1pTfWawt_E8",
        "umgVk1b_yNPz",
        "3SkWrCmQ2wJW",
        "TPSvLPEa3RRD",
        "rmIn0n4_KBLZ",
        "LuYsPsLZKIBx",
        "TDqsXhniVBVC",
        "N8jn3BFuWVKm",
        "Oehd7K74W7dH",
        "OwG9TGQCzSIZ",
        "W_NGDZ921gKR",
        "x5PPSsOo4L_w",
        "vh56VNhY4gy2",
        "77lJ_fJj47d9",
        "PnEQ5D8q5Zte",
        "EW0hO8X05o5Q"
      ],
      "toc_visible": true,
      "mount_file_id": "1hCb_ipz0R4pEjyjBy_9d3-CvCKZFi7tL",
      "authorship_tag": "ABX9TyOSivNfVcf2pSf2tApAQODs",
      "include_colab_link": true
    },
    "kernelspec": {
      "name": "python3",
      "display_name": "Python 3"
    },
    "language_info": {
      "name": "python"
    }
  },
  "cells": [
    {
      "cell_type": "markdown",
      "metadata": {
        "id": "view-in-github",
        "colab_type": "text"
      },
      "source": [
        "<a href=\"https://colab.research.google.com/github/virgiliol/tcc-2.0/blob/main/An%C3%A1lise_explorat%C3%B3ria.ipynb\" target=\"_parent\"><img src=\"https://colab.research.google.com/assets/colab-badge.svg\" alt=\"Open In Colab\"/></a>"
      ]
    },
    {
      "cell_type": "markdown",
      "metadata": {
        "id": "oaCoc1dm8TuG"
      },
      "source": [
        "# Notebook para _Exploratory Data Analysis_\n",
        "\n",
        "## Desenvolvido por Virgílio Locatelli\n",
        "#### Laboratório de Computação Aplicada \n",
        "#### Universidade Federal do Oeste do Pará\n",
        "\n",
        "***\n",
        "\n",
        "__Objetivos__\n",
        "1. Realizar análise exploratória dos dados\n",
        "2. Verificar possibilidades de análises\n",
        "\n",
        "***\n"
      ]
    },
    {
      "cell_type": "markdown",
      "source": [
        "# Início: importando dados e bibliotecas a serem utilizadas\n",
        "***\n",
        "__Funções__\n",
        "- pandas: manipulação de dados\n",
        "- numpy: matemática\n",
        "- matplotlib e seaborn: plotagem de gráficos"
      ],
      "metadata": {
        "id": "nZe-M2SxtYpC"
      }
    },
    {
      "cell_type": "markdown",
      "source": [
        "## Importações de bibliotecas"
      ],
      "metadata": {
        "id": "azDS-5tap-aR"
      }
    },
    {
      "cell_type": "code",
      "source": [
        "import numpy as np\n",
        "import pandas as pd\n",
        "import seaborn as sns\n",
        "import matplotlib.pyplot as plt"
      ],
      "metadata": {
        "id": "-yf08ieIqFI0"
      },
      "execution_count": null,
      "outputs": []
    },
    {
      "cell_type": "markdown",
      "source": [
        "## Importação de Dados"
      ],
      "metadata": {
        "id": "5KBwFmsaqj2P"
      }
    },
    {
      "cell_type": "code",
      "source": [
        "respostas_tratadas = pd.read_excel('/content/drive/MyDrive/TCC 2.0/respostasf2_tratado.xlsx' )"
      ],
      "metadata": {
        "id": "w53I37aOoCIO"
      },
      "execution_count": null,
      "outputs": []
    },
    {
      "cell_type": "code",
      "source": [
        "respostas_tratadas.head(2)"
      ],
      "metadata": {
        "id": "DA0wQn2oqrMi"
      },
      "execution_count": null,
      "outputs": []
    },
    {
      "cell_type": "code",
      "source": [
        "respostas_tratadas.shape"
      ],
      "metadata": {
        "id": "rr_h-w9crD5q"
      },
      "execution_count": null,
      "outputs": []
    },
    {
      "cell_type": "markdown",
      "source": [
        "## Execução de funções necessárias"
      ],
      "metadata": {
        "id": "cJc5MK9EAjp0"
      }
    },
    {
      "cell_type": "code",
      "metadata": {
        "id": "r7zFuWwYApSJ"
      },
      "source": [
        "## Estratégia para tratar múltiplas respostas\n",
        "def multiplas(respostas):\n",
        "  quebradas = ['']\n",
        "  for i in respostas:\n",
        "      v = i.split(';')\n",
        "      if(len(v)==1):\n",
        "          quebradas.append(v[0])\n",
        "      else:        \n",
        "          for j in v:\n",
        "              quebradas.append(j)\n",
        "  return quebradas"
      ],
      "execution_count": null,
      "outputs": []
    },
    {
      "cell_type": "markdown",
      "source": [
        "# Exploração dos dados sociodemográficos\n",
        "***\n",
        "- Através da pesquisa foi obtido os seguintes atributos dos entrevistados:\n",
        " - Idade\n",
        " - Genero\n",
        " - Estado\n",
        " - Cor\n",
        "***\n"
      ],
      "metadata": {
        "id": "W1pTfWawt_E8"
      }
    },
    {
      "cell_type": "markdown",
      "source": [
        "## Idade"
      ],
      "metadata": {
        "id": "umgVk1b_yNPz"
      }
    },
    {
      "cell_type": "code",
      "source": [
        "fig, ax = plt.subplots(figsize=(8,6))\n",
        "sns.countplot(x='Idade', data=respostas_tratadas, order = respostas_tratadas.Idade.value_counts().sort_index().index);\n",
        "ax.set_title(\"Análise da Distribuição por Idade\", fontdict={'fontsize':25})\n",
        "ax.set_xlabel('Idade', fontdict={'fontsize':18})\n",
        "ax.set_ylabel('Quantidade', fontdict={'fontsize':18});"
      ],
      "metadata": {
        "id": "AIIrH9moyr3l"
      },
      "execution_count": null,
      "outputs": []
    },
    {
      "cell_type": "markdown",
      "source": [
        "## Genêro"
      ],
      "metadata": {
        "id": "3SkWrCmQ2wJW"
      }
    },
    {
      "cell_type": "code",
      "source": [
        "fig, ax = plt.subplots(figsize=(6,6))\n",
        "sns.countplot(x='Genero', data=respostas_tratadas);\n",
        "ax.set_title(\"Análise da Distribuição por Gênero\", fontdict={'fontsize':25})\n",
        "ax.set_xlabel('Gênero', fontdict={'fontsize':18})\n",
        "ax.set_ylabel('Quantidade', fontdict={'fontsize':18});"
      ],
      "metadata": {
        "id": "kS6MhOK827cr"
      },
      "execution_count": null,
      "outputs": []
    },
    {
      "cell_type": "markdown",
      "source": [
        "## Estado e Regiões\n",
        "- Através do atributo **Estado** foi possível uma análise mais genérica  agrupando-os em **Regiões** "
      ],
      "metadata": {
        "id": "TPSvLPEa3RRD"
      }
    },
    {
      "cell_type": "markdown",
      "source": [
        "### Regiões"
      ],
      "metadata": {
        "id": "rmIn0n4_KBLZ"
      }
    },
    {
      "cell_type": "code",
      "source": [
        "# Criando um dataFrame secundário com a coluna de Regiões \n",
        "respostas_tratadasR = respostas_tratadas\n",
        "\n",
        "# Criando uma lista de regiões de acordo com cada estado\n",
        "lista_regiao = []\n",
        "for i in respostas_tratadasR['Estado']:\n",
        "  Lnordeste = ['MARANHÃO', 'PIAUÍ','CEARÁ','RIO GRANDE DO NORTE','PERNAMBUCO','PARAÍBA','SERGIPE','ALAGOAS','BAHIA']\n",
        "  for nd in Lnordeste:\n",
        "    if nd == i:\n",
        "      lista_regiao +=['NORDESTE']\n",
        "  Lnorte = ['MANAUS','RORAIMA','AMAPÁ','PARÁ','TOCANTINS','RONDÔNIA','ACRE']\n",
        "  for nt in Lnorte:\n",
        "    if nt == i:\n",
        "      lista_regiao +=['NORTE'] \n",
        "  Lcentro_oeste = ['MATO GROSSO','MATO GROSSO DO SUL','GOIÁS']\n",
        "  for co in Lcentro_oeste:\n",
        "    if co == i:\n",
        "      lista_regiao +=['CENTRO OESTE']\n",
        "  Lsudeste = ['SÃO PAULO','RIO DE JANEIRO','ESPÍRITO SANTO','MINAS GERAIS']\n",
        "  for sd in Lsudeste:\n",
        "    if sd == i:\n",
        "      lista_regiao +=['SUDESTE']\n",
        "  Lsul = ['PARANÁ','RIO GRANDE DO SUL', 'SANTA CATARINA']\n",
        "  for su in Lsul:\n",
        "    if su == i:\n",
        "      lista_regiao +=['SUL']\n",
        "\n",
        "# Adicionando a lista a um dataframe\n",
        "df = pd.DataFrame(lista_regiao,columns=['Regiao'])\n",
        "\n",
        "# Juntando dois DataFrames\n",
        "respostas_tratadasR = pd.concat([respostas_tratadasR,df],axis=1)\n",
        "\n",
        "# Verificando tamanho do novo dataframe\n",
        "respostas_tratadasR.shape"
      ],
      "metadata": {
        "id": "jF4tzAQU847Q"
      },
      "execution_count": null,
      "outputs": []
    },
    {
      "cell_type": "code",
      "source": [
        "fig, ax = plt.subplots(figsize=(10,10))\n",
        "sns.countplot(x='Regiao', data=respostas_tratadasR, order = respostas_tratadasR.Regiao.value_counts().index);\n",
        "ax.set_title(\"Análise da Distribuição por Região\", fontdict={'fontsize':25})\n",
        "ax.set_xlabel('Região', fontdict={'fontsize':18})\n",
        "ax.set_ylabel('Quantidade', fontdict={'fontsize':18});"
      ],
      "metadata": {
        "id": "XKq-xjb6Hz-N"
      },
      "execution_count": null,
      "outputs": []
    },
    {
      "cell_type": "markdown",
      "source": [
        "### Estado"
      ],
      "metadata": {
        "id": "J9kflr5hJ-SY"
      }
    },
    {
      "cell_type": "code",
      "source": [
        "fig, ax = plt.subplots(figsize=(10,10))\n",
        "sns.countplot(y='Estado', data=respostas_tratadas, order = respostas_tratadas.Estado.value_counts().index);\n",
        "ax.set_title(\"Análise da Distribuição por Estado\", fontdict={'fontsize':25})\n",
        "ax.set_xlabel('Estado', fontdict={'fontsize':18})\n",
        "ax.set_ylabel('Quantidade', fontdict={'fontsize':18});"
      ],
      "metadata": {
        "id": "2jFIZf5I4IeN"
      },
      "execution_count": null,
      "outputs": []
    },
    {
      "cell_type": "markdown",
      "source": [
        "## Cor"
      ],
      "metadata": {
        "id": "LuYsPsLZKIBx"
      }
    },
    {
      "cell_type": "code",
      "source": [
        "fig, ax = plt.subplots(figsize=(10,10))\n",
        "sns.countplot(x='Cor', data=respostas_tratadas);\n",
        "ax.set_title(\"Análise da Distribuição por Cor\", fontdict={'fontsize':25})\n",
        "ax.set_xlabel('Cor', fontdict={'fontsize':18})\n",
        "ax.set_ylabel('Quantidade', fontdict={'fontsize':18});"
      ],
      "metadata": {
        "id": "_8fWiRgcKMam"
      },
      "execution_count": null,
      "outputs": []
    },
    {
      "cell_type": "markdown",
      "source": [
        ""
      ],
      "metadata": {
        "id": "69dIE6VPQ0TD"
      }
    },
    {
      "cell_type": "markdown",
      "source": [
        "# Exploração dos dados Acadêmicos\n",
        "- No formulário foi solicitado os seguintes dados sobre a formação dos entrevistados:\n",
        "  - Titulação\n",
        "  - Tempo no qual possui tal Titulação\n",
        "  - Área de atuação\n",
        "***"
      ],
      "metadata": {
        "id": "shxm9nVaQ38t"
      }
    },
    {
      "cell_type": "markdown",
      "source": [
        "## Titulação"
      ],
      "metadata": {
        "id": "3jhh3uN7Se6n"
      }
    },
    {
      "cell_type": "code",
      "source": [
        "fig, ax = plt.subplots(figsize=(8,6))\n",
        "sns.countplot(x='Titulacao', data=respostas_tratadas);\n",
        "ax.set_title(\"Análise da Distribuição por Titualação\", fontdict={'fontsize':25})\n",
        "ax.set_xlabel('Titulação', fontdict={'fontsize':18})\n",
        "ax.set_ylabel('Quantidade', fontdict={'fontsize':18});"
      ],
      "metadata": {
        "id": "rIvzV03WSjbO"
      },
      "execution_count": null,
      "outputs": []
    },
    {
      "cell_type": "markdown",
      "source": [
        "## Tempo no qual possui a titulação\n",
        "***\n",
        "- Neste atributo é necessaŕio a filtragem de acordo cada Titulação para saber com maior precisão perfil dos entrevistados\n",
        "---\n"
      ],
      "metadata": {
        "id": "HS22DlZHTe6B"
      }
    },
    {
      "cell_type": "markdown",
      "source": [
        "### Doutorado"
      ],
      "metadata": {
        "id": "TDqsXhniVBVC"
      }
    },
    {
      "cell_type": "code",
      "source": [
        "# Filtrando apenas os participantes com Doutorado\n",
        "doutorado = respostas_tratadas.loc[respostas_tratadas.Titulacao == 'Doutorado'] "
      ],
      "metadata": {
        "id": "s9F9DcYoVGE0"
      },
      "execution_count": null,
      "outputs": []
    },
    {
      "cell_type": "code",
      "source": [
        "fig, ax = plt.subplots(figsize=(10,6))\n",
        "sns.countplot(x='TempoTitulacao', data=doutorado, order = doutorado.TempoTitulacao.value_counts().sort_index().index);\n",
        "ax.set_title(\"Análise da Distribuição dos Doutores pelo Tempo da Titualação\", fontdict={'fontsize':25})\n",
        "ax.set_xlabel('Tempo que possui a Titulação', fontdict={'fontsize':18})\n",
        "ax.set_ylabel('Quantidade', fontdict={'fontsize':18});"
      ],
      "metadata": {
        "id": "2EA6bsmOTl4h"
      },
      "execution_count": null,
      "outputs": []
    },
    {
      "cell_type": "markdown",
      "source": [
        "### Mestrado"
      ],
      "metadata": {
        "id": "N8jn3BFuWVKm"
      }
    },
    {
      "cell_type": "code",
      "source": [
        "# Filtrando apenas os participantes com Mestrado\n",
        "mestrado = respostas_tratadas.loc[respostas_tratadas.Titulacao == 'Mestrado'] \n"
      ],
      "metadata": {
        "id": "YU_3SB5mWhhY"
      },
      "execution_count": null,
      "outputs": []
    },
    {
      "cell_type": "code",
      "source": [
        "fig, ax = plt.subplots(figsize=(10,6))\n",
        "sns.countplot(x='TempoTitulacao', data=mestrado, order = mestrado.TempoTitulacao.value_counts().sort_index().index);\n",
        "ax.set_title(\"Análise da Distribuição dos Mestres pelo Tempo da Titualação\", fontdict={'fontsize':25})\n",
        "ax.set_xlabel('Tempo que possui a Titulação', fontdict={'fontsize':18})\n",
        "ax.set_ylabel('Quantidade', fontdict={'fontsize':18});"
      ],
      "metadata": {
        "id": "b8ykE-QFWsC7"
      },
      "execution_count": null,
      "outputs": []
    },
    {
      "cell_type": "markdown",
      "source": [
        "### Especialização"
      ],
      "metadata": {
        "id": "Oehd7K74W7dH"
      }
    },
    {
      "cell_type": "code",
      "source": [
        "# Filtrando apenas os participantes com Especialização\n",
        "especializacao = respostas_tratadas.loc[respostas_tratadas.Titulacao == 'Especialização'] \n",
        "especializacao"
      ],
      "metadata": {
        "id": "bC7jQKsRXE4w"
      },
      "execution_count": null,
      "outputs": []
    },
    {
      "cell_type": "code",
      "source": [
        "fig, ax = plt.subplots(figsize=(10,6))\n",
        "sns.countplot(x='TempoTitulacao', data=especializacao, order = especializacao.TempoTitulacao.value_counts().sort_index().index);\n",
        "ax.set_title(\"Análise da Distribuição dos Especialistas pelo Tempo da Titualação\", fontdict={'fontsize':25})\n",
        "ax.set_xlabel('Tempo que possui a Titulação', fontdict={'fontsize':18})\n",
        "ax.set_ylabel('Quantidade', fontdict={'fontsize':18});"
      ],
      "metadata": {
        "id": "J5Z5RSWrXRf3"
      },
      "execution_count": null,
      "outputs": []
    },
    {
      "cell_type": "markdown",
      "source": [
        "### Graduação"
      ],
      "metadata": {
        "id": "hLUprRr4ZTqF"
      }
    },
    {
      "cell_type": "code",
      "source": [
        "# Filtrando apenas os participantes com Graduação\n",
        "graduacao = respostas_tratadas.loc[respostas_tratadas.Titulacao == 'Graduação'] \n",
        "graduacao"
      ],
      "metadata": {
        "id": "9-4bC0iTZdo1"
      },
      "execution_count": null,
      "outputs": []
    },
    {
      "cell_type": "code",
      "source": [
        "fig, ax = plt.subplots(figsize=(10,6))\n",
        "sns.countplot(x='TempoTitulacao', data=graduacao, order = graduacao.TempoTitulacao.value_counts().sort_index().index);\n",
        "ax.set_title(\"Análise da Distribuição dos Graduados pelo Tempo da Titualação\", fontdict={'fontsize':25})\n",
        "ax.set_xlabel('Tempo que possui a Titulação', fontdict={'fontsize':18})\n",
        "ax.set_ylabel('Quantidade', fontdict={'fontsize':18});"
      ],
      "metadata": {
        "id": "fvZEvCLiZdo4"
      },
      "execution_count": null,
      "outputs": []
    },
    {
      "cell_type": "markdown",
      "source": [
        "## Área de atuação"
      ],
      "metadata": {
        "id": "t9JzZ4AabGUS"
      }
    },
    {
      "cell_type": "code",
      "metadata": {
        "id": "LrlqPaue8Tuo"
      },
      "source": [
        "areaatua = pd.DataFrame({'AreaAtuacao': multiplas(respostas_tratadas.AreaAtuacao.values)})"
      ],
      "execution_count": null,
      "outputs": []
    },
    {
      "cell_type": "code",
      "source": [
        "fig, ax = plt.subplots(figsize=(10,6))\n",
        "sns.countplot(y='AreaAtuacao', data=areaatua, order = areaatua.AreaAtuacao.value_counts().index);\n",
        "ax.set_title(\"Análise da Distribuição por Área de atuação\", fontdict={'fontsize':25})\n",
        "ax.set_xlabel('Área de atuação', fontdict={'fontsize':18})\n",
        "ax.set_ylabel('Quantidade', fontdict={'fontsize':18});"
      ],
      "metadata": {
        "id": "RzTIPB4wbMkb"
      },
      "execution_count": null,
      "outputs": []
    },
    {
      "cell_type": "markdown",
      "source": [
        "# Exploração das experiências profissionais e internacionais\n",
        "---\n",
        " - Para montegem do perfil dos participantes foi questionado sobre suas experiências profissionais e internacionais\n",
        "---"
      ],
      "metadata": {
        "id": "LUyJJOcgaopz"
      }
    },
    {
      "cell_type": "markdown",
      "source": [
        "## Atuação profissional"
      ],
      "metadata": {
        "id": "U37qdye1qac1"
      }
    },
    {
      "cell_type": "code",
      "source": [
        "fig, ax = plt.subplots(figsize=(6,6))\n",
        "sns.countplot(x='AtuacaoProfissional', data=respostas_tratadas);\n",
        "ax.set_title(\"Análise da Atuação Profissional dos participantes\", fontdict={'fontsize':25})\n",
        "ax.set_xlabel('Atua profissionalmente na sua Área', fontdict={'fontsize':18})\n",
        "ax.set_ylabel('Quantidade', fontdict={'fontsize':18});"
      ],
      "metadata": {
        "id": "PGpwoaKqqj1R"
      },
      "execution_count": null,
      "outputs": []
    },
    {
      "cell_type": "markdown",
      "source": [
        "## Atuação com Pesquisa e Desenvolvimento"
      ],
      "metadata": {
        "id": "SUcW-Xv8rTnP"
      }
    },
    {
      "cell_type": "code",
      "source": [
        "fig, ax = plt.subplots(figsize=(6,6))\n",
        "sns.countplot(x='AtuacaoPeD', data=respostas_tratadas);\n",
        "ax.set_title(\"Análise da atuação\\n com pesquisa e desenvolvimentos\", fontdict={'fontsize':25})\n",
        "ax.set_xlabel('Atua com pesquisa e desenvolvimento na sua Área', fontdict={'fontsize':18})\n",
        "ax.set_ylabel('Quantidade', fontdict={'fontsize':18});"
      ],
      "metadata": {
        "id": "uSxfuvNCrTnS"
      },
      "execution_count": null,
      "outputs": []
    },
    {
      "cell_type": "markdown",
      "source": [
        "## Atual ocupação"
      ],
      "metadata": {
        "id": "lIT_DRi5srUp"
      }
    },
    {
      "cell_type": "code",
      "source": [
        "fig, ax = plt.subplots(figsize=(4,3))\n",
        "sns.countplot(y='AtualOcupacao', data=respostas_tratadas);\n",
        "ax.set_title(\"Análise da atual ocupacao\", fontdict={'fontsize':25})\n",
        "ax.set_xlabel('Quantidade', fontdict={'fontsize':18})\n",
        "ax.set_ylabel('Atual ocupação', fontdict={'fontsize':18});"
      ],
      "metadata": {
        "id": "lkakzrABsrUv"
      },
      "execution_count": null,
      "outputs": []
    },
    {
      "cell_type": "markdown",
      "source": [
        "## Experiência internacional"
      ],
      "metadata": {
        "id": "w5ibugRSv-ew"
      }
    },
    {
      "cell_type": "code",
      "source": [
        "fig, ax = plt.subplots(figsize=(4,3))\n",
        "sns.countplot(x='Internacional', data=respostas_tratadas);\n",
        "ax.set_title(\"Análise de Experiência Internacional\", fontdict={'fontsize':25})\n",
        "ax.set_xlabel('Teve experiência Internacional', fontdict={'fontsize':18})\n",
        "ax.set_ylabel('Quantidade', fontdict={'fontsize':18});"
      ],
      "metadata": {
        "id": "qlRbUee4v-e0"
      },
      "execution_count": null,
      "outputs": []
    },
    {
      "cell_type": "markdown",
      "source": [
        "# Exploração da Percepção dos pesquisadores quanto ao predatismo\n",
        "---\n",
        "- Foi abordado no questionário algumas afirmações aos participantes para entender percepção dos mesmos ao tema\n",
        "---"
      ],
      "metadata": {
        "id": "FRIaCPITyEaD"
      }
    },
    {
      "cell_type": "markdown",
      "source": [
        "## Familiaridade com o termo"
      ],
      "metadata": {
        "id": "OwG9TGQCzSIZ"
      }
    },
    {
      "cell_type": "code",
      "source": [
        "fig, ax = plt.subplots(figsize=(4,3))\n",
        "sns.countplot(y='FamiliarizarPredatorio', data=respostas_tratadas);\n",
        "ax.set_title(\"Análise de Familiaridade com o termo\", fontdict={'fontsize':25})\n",
        "ax.set_xlabel('Familiariade com o termo', fontdict={'fontsize':18})\n",
        "ax.set_ylabel('Percpções', fontdict={'fontsize':18});"
      ],
      "metadata": {
        "id": "TuaFwKZjzH0R"
      },
      "execution_count": null,
      "outputs": []
    },
    {
      "cell_type": "markdown",
      "source": [
        "## Afirmação 1 \n",
        " - O envio de mensagens frequentes, com oportunidades de publicação rápida e que cobrem taxas no ato da submissão configura uma prática predatória."
      ],
      "metadata": {
        "id": "W_NGDZ921gKR"
      }
    },
    {
      "cell_type": "code",
      "source": [
        "fig, ax = plt.subplots(figsize=(6,6))\n",
        "sns.countplot(y='ITMensagem', data=respostas_tratadas);\n",
        "ax.set_title(\"Análise de Percpção (Afirmação 1)\", fontdict={'fontsize':20})\n",
        "ax.set_xlabel('O envio de mensagens frequentes, com oportunidades de publicação rápida \\n e que cobrem taxas no ato da submissão configura uma prática predatória', fontdict={'fontsize':16})\n",
        "ax.set_ylabel('Respostas', fontdict={'fontsize':18});"
      ],
      "metadata": {
        "id": "f4gmJbJQ1gKV"
      },
      "execution_count": null,
      "outputs": []
    },
    {
      "cell_type": "markdown",
      "source": [
        "## Afirmação 2\n",
        " - Eu e meus pares estamos preparados para escolher referências confiáveis a serem usadas em nossos trabalhos."
      ],
      "metadata": {
        "id": "x5PPSsOo4L_w"
      }
    },
    {
      "cell_type": "code",
      "source": [
        "fig, ax = plt.subplots(figsize=(6,6))\n",
        "sns.countplot(y='ITParesPreparadosReferencia', data=respostas_tratadas);\n",
        "ax.set_title(\"Análise de Percpção (Afirmação 2)\", fontdict={'fontsize':20})\n",
        "ax.set_xlabel('Eu e meus pares estamos preparados para escolher referências \\n confiáveis a serem usadas em nossos trabalhos.', fontdict={'fontsize':16})\n",
        "ax.set_ylabel('Respostas', fontdict={'fontsize':18});"
      ],
      "metadata": {
        "id": "2nJJ8Fsp4L_z"
      },
      "execution_count": null,
      "outputs": []
    },
    {
      "cell_type": "markdown",
      "source": [
        "## Afirmação 3\n",
        " - Eu e meus pares estamos devidamente preparados para escolher os locais de publicação de nossos trabalhos."
      ],
      "metadata": {
        "id": "vh56VNhY4gy2"
      }
    },
    {
      "cell_type": "code",
      "source": [
        "fig, ax = plt.subplots(figsize=(6,6))\n",
        "sns.countplot(y='ITParesPreparadosEscolhaLocal', data=respostas_tratadas);\n",
        "ax.set_title(\"Análise de Percpção (Afirmação 3)\", fontdict={'fontsize':20})\n",
        "ax.set_xlabel('Eu e meus pares estamos devidamente preparados para escolher\\n os locais de publicação de nossos trabalhos.', fontdict={'fontsize':16})\n",
        "ax.set_ylabel('Respostas', fontdict={'fontsize':18});"
      ],
      "metadata": {
        "id": "_Rlr_-mw4gy4"
      },
      "execution_count": null,
      "outputs": []
    },
    {
      "cell_type": "markdown",
      "source": [
        "## Afirmação 4\n",
        " - Uma oferta de publicação a curto prazo em um periódico indexado pelo Qualis, apesar da cobrança de taxas no ato da submissão, representa uma oportunidade interessante."
      ],
      "metadata": {
        "id": "77lJ_fJj47d9"
      }
    },
    {
      "cell_type": "code",
      "source": [
        "fig, ax = plt.subplots(figsize=(6,6))\n",
        "sns.countplot(y='ITOfertaCurtoPrazo', data=respostas_tratadas);\n",
        "ax.set_title(\"Análise de Percpção (Afirmação 4)\", fontdict={'fontsize':20})\n",
        "ax.set_xlabel('Uma oferta de publicação a curto prazo em um periódico indexado pelo Qualis,\\n apesar da cobrança de taxas no ato da submissão, representa uma oportunidade interessante.', fontdict={'fontsize':16})\n",
        "ax.set_ylabel('Respostas', fontdict={'fontsize':18});"
      ],
      "metadata": {
        "id": "3c6TJijJ47eB"
      },
      "execution_count": null,
      "outputs": []
    },
    {
      "cell_type": "markdown",
      "source": [
        "## Afirmação 5\n",
        " - É fácil diferenciar periódicos sérios de periódicos mal intencionados."
      ],
      "metadata": {
        "id": "PnEQ5D8q5Zte"
      }
    },
    {
      "cell_type": "code",
      "source": [
        "fig, ax = plt.subplots(figsize=(6,6))\n",
        "sns.countplot(y='ITFacilDiferenciarPred', data=respostas_tratadas);\n",
        "ax.set_title(\"Análise de Percpção (Afirmação 5)\", fontdict={'fontsize':20})\n",
        "ax.set_xlabel('É fácil diferenciar periódicos sérios de periódicos mal intencionados.', fontdict={'fontsize':16})\n",
        "ax.set_ylabel('Respostas', fontdict={'fontsize':18});"
      ],
      "metadata": {
        "id": "s1SNKau35Zti"
      },
      "execution_count": null,
      "outputs": []
    },
    {
      "cell_type": "markdown",
      "source": [
        "## Afirmação 6\n",
        " - A comunidade científica que participo debate abertamente sobre os periódicos que devem ser evitados."
      ],
      "metadata": {
        "id": "EW0hO8X05o5Q"
      }
    },
    {
      "cell_type": "code",
      "source": [
        "fig, ax = plt.subplots(figsize=(6,6))\n",
        "sns.countplot(y='ITComunidadeDiscuteEvitar', data=respostas_tratadas);\n",
        "ax.set_title(\"Análise de Percpção (Afirmação 6)\", fontdict={'fontsize':20})\n",
        "ax.set_xlabel('A comunidade científica que participo debate abertamente \\nsobre os periódicos que devem ser evitados.', fontdict={'fontsize':16})\n",
        "ax.set_ylabel('Respostas', fontdict={'fontsize':18});"
      ],
      "metadata": {
        "id": "wWFmyfC45o5U"
      },
      "execution_count": null,
      "outputs": []
    },
    {
      "cell_type": "markdown",
      "source": [
        "## Afirmação 7\n",
        " - A comunidade científica que participo debate abertamente sobre listas que indexam publicações potencialmente predatórias."
      ],
      "metadata": {
        "id": "VTh1VZ_P6hZV"
      }
    },
    {
      "cell_type": "code",
      "source": [
        "fig, ax = plt.subplots(figsize=(6,6))\n",
        "sns.countplot(y='ITComunidadeListagem', data=respostas_tratadas);\n",
        "ax.set_title('Análise de Percpção (Afirmação 7)', fontdict={'fontsize':20})\n",
        "ax.set_xlabel('A comunidade científica que participo debate abertamente\\n sobre os periódicos que devem ser evitados.', fontdict={'fontsize':16})\n",
        "ax.set_ylabel('Respostas', fontdict={'fontsize':18});"
      ],
      "metadata": {
        "id": "Uek_cCWC6hZW"
      },
      "execution_count": null,
      "outputs": []
    },
    {
      "cell_type": "markdown",
      "source": [
        "## Indicios de predatismos"
      ],
      "metadata": {
        "id": "BO7Wukq88sjt"
      }
    },
    {
      "cell_type": "code",
      "source": [
        "indicio = pd.DataFrame({'IndiciosPredatismo': multiplas(respostas_tratadas.IndiciosPredatismo.values)})"
      ],
      "metadata": {
        "id": "ZNQmg5qrA-Vm"
      },
      "execution_count": null,
      "outputs": []
    },
    {
      "cell_type": "code",
      "source": [
        "fig, ax = plt.subplots(figsize=(6,6))\n",
        "sns.countplot(y='IndiciosPredatismo', data=indic);\n",
        "ax.set_title('Análise de Percpção (Indicios)', fontdict={'fontsize':20})\n",
        "ax.set_xlabel('Indicios de sugestivos ao predatismo.', fontdict={'fontsize':16})\n",
        "ax.set_ylabel('Respostas', fontdict={'fontsize':18});"
      ],
      "metadata": {
        "id": "pXkdGSeK84Px"
      },
      "execution_count": null,
      "outputs": []
    },
    {
      "cell_type": "markdown",
      "source": [
        "## Lista de periódicos predatórios"
      ],
      "metadata": {
        "id": "lS7c3af9-PgA"
      }
    },
    {
      "cell_type": "code",
      "source": [
        "listas = pd.DataFrame({'ConhecerLista': multiplas(respostas_tratadas.ConhecerLista.values)})"
      ],
      "metadata": {
        "id": "6gr0mpDF_Dtn"
      },
      "execution_count": null,
      "outputs": []
    },
    {
      "cell_type": "code",
      "source": [
        "fig, ax = plt.subplots(figsize=(6,6))\n",
        "sns.countplot(y='ConhecerLista', data=listas);\n",
        "ax.set_title('Análise de Percpção (Listas Conhecidas)', fontdict={'fontsize':20})\n",
        "ax.set_xlabel('Listas conhecidas pelos participantes.', fontdict={'fontsize':16})\n",
        "ax.set_ylabel('Respostas', fontdict={'fontsize':18});"
      ],
      "metadata": {
        "id": "7PeVaAgm-el-"
      },
      "execution_count": null,
      "outputs": []
    },
    {
      "cell_type": "markdown",
      "source": [
        "## Experiência com predatismo\n"
      ],
      "metadata": {
        "id": "AC2iJ97mFXz4"
      }
    },
    {
      "cell_type": "code",
      "source": [
        "fig, ax = plt.subplots(figsize=(6,6))\n",
        "sns.countplot(x='ExperienciaPredatismo', data=respostas_tratadas);\n",
        "ax.set_title('Análise de Percpção (Experiência com predatismo)', fontdict={'fontsize':20})\n",
        "ax.set_xlabel('Tiveram alguma experiẽncia.', fontdict={'fontsize':16})\n",
        "ax.set_ylabel('Qauntidade', fontdict={'fontsize':18});"
      ],
      "metadata": {
        "id": "KX1zi8PcFsBY"
      },
      "execution_count": null,
      "outputs": []
    },
    {
      "cell_type": "markdown",
      "source": [
        "# Exploração das práticas de publicação"
      ],
      "metadata": {
        "id": "ep1mefQnX0mj"
      }
    },
    {
      "cell_type": "markdown",
      "source": [
        "## Critérios para escolha de periódicos"
      ],
      "metadata": {
        "id": "ZYa5ll9ubC7s"
      }
    },
    {
      "cell_type": "code",
      "source": [
        "criterios = pd.DataFrame({'CriteriosEscolhaPeriodico': multiplas(respostas_tratadas.CriteriosEscolhaPeriodico.values)})"
      ],
      "metadata": {
        "id": "2yCA_HyAY5xj"
      },
      "execution_count": null,
      "outputs": []
    },
    {
      "cell_type": "code",
      "source": [
        "fig, ax = plt.subplots(figsize=(6,6))\n",
        "sns.countplot(y='CriteriosEscolhaPeriodico', data=criterios, order = criterios.CriteriosEscolhaPeriodico.value_counts().index);\n",
        "ax.set_title('Análise de critérios para escolha de periódicos', fontdict={'fontsize':20})\n",
        "ax.set_xlabel('Quantidade', fontdict={'fontsize':16})\n",
        "ax.set_ylabel('Critérios', fontdict={'fontsize':18});"
      ],
      "metadata": {
        "id": "rg9sz5h_ZYD-"
      },
      "execution_count": null,
      "outputs": []
    },
    {
      "cell_type": "markdown",
      "source": [
        "## Publicação de maior Classificação-Qualis"
      ],
      "metadata": {
        "id": "g-T5SI2Ga_SH"
      }
    },
    {
      "cell_type": "code",
      "source": [
        "fig, ax = plt.subplots(figsize=(6,6))\n",
        "sns.countplot(y='QualisMelhorPublicacao', data=respostas_tratadas);\n",
        "ax.set_title('Análise de Classificação-Qualis', fontdict={'fontsize':20})\n",
        "ax.set_xlabel('Quantidade', fontdict={'fontsize':16})\n",
        "ax.set_ylabel('Classificação-Qualis', fontdict={'fontsize':18});"
      ],
      "metadata": {
        "id": "Es7W0UB5baZS"
      },
      "execution_count": null,
      "outputs": []
    },
    {
      "cell_type": "markdown",
      "source": [
        "## Pressão para publicação"
      ],
      "metadata": {
        "id": "w9g_Da-RcNVP"
      }
    },
    {
      "cell_type": "code",
      "source": [
        "fig, ax = plt.subplots(figsize=(6,6))\n",
        "sns.countplot(x='PressaoPulicacao', data=respostas_tratadas);\n",
        "ax.set_title('Análise de distribuição quanto ao sentimento de\\n pressão para publicar', fontdict={'fontsize':20})\n",
        "ax.set_ylabel('Quantidade', fontdict={'fontsize':16})\n",
        "ax.set_xlabel('Sentem-se coagidos a publicar', fontdict={'fontsize':18});"
      ],
      "metadata": {
        "id": "Ri7uRMc9cQmG"
      },
      "execution_count": null,
      "outputs": []
    },
    {
      "cell_type": "markdown",
      "source": [
        "## Qauntidade de artigos publicados a cada 5 anos"
      ],
      "metadata": {
        "id": "5VtiirsIdgq2"
      }
    },
    {
      "cell_type": "code",
      "source": [
        "fig, ax = plt.subplots(figsize=(8,6))\n",
        "sns.countplot(x='QtArtQuinquenio', data=respostas_tratadas, order = respostas_tratadas.QtArtQuinquenio.value_counts().index);\n",
        "ax.set_title('Análise de distribuição da frequência de publicação por quinquênio', fontdict={'fontsize':20})\n",
        "ax.set_ylabel('Quantidades', fontdict={'fontsize':16})\n",
        "ax.set_xlabel('Taxas de publicação por quiquênio', fontdict={'fontsize':18});"
      ],
      "metadata": {
        "id": "INnqk5P4drGH"
      },
      "execution_count": null,
      "outputs": []
    },
    {
      "cell_type": "markdown",
      "source": [
        "# Exploração dos dados sobre os Programas de Pós-Graduação"
      ],
      "metadata": {
        "id": "MSJxEZ3Qevq0"
      }
    },
    {
      "cell_type": "markdown",
      "source": [
        "## Inseridos"
      ],
      "metadata": {
        "id": "hN_Zl4ilfj5n"
      }
    },
    {
      "cell_type": "code",
      "source": [
        "fig, ax = plt.subplots(figsize=(6,6))\n",
        "sns.countplot(x='ParticipaPPG', data=respostas_tratadas);\n",
        "ax.set_title('Análise de distribuição pela inserção em programas de Pós', fontdict={'fontsize':20})\n",
        "ax.set_ylabel('Quantidade', fontdict={'fontsize':16})\n",
        "ax.set_xlabel('Participam de programas de Pós', fontdict={'fontsize':18});"
      ],
      "metadata": {
        "id": "Ub69b10ffmqe"
      },
      "execution_count": null,
      "outputs": []
    },
    {
      "cell_type": "markdown",
      "source": [
        "## Participação"
      ],
      "metadata": {
        "id": "kcajwI3gf172"
      }
    },
    {
      "cell_type": "code",
      "source": [
        "fig, ax = plt.subplots(figsize=(6,6))\n",
        "sns.countplot(y='ParticipacaoPrograma', data=respostas_tratadas);\n",
        "ax.set_title('Análise de distribuição pela participação no programa de Pós', fontdict={'fontsize':20})\n",
        "ax.set_xlabel('Quantidade', fontdict={'fontsize':16})\n",
        "ax.set_ylabel('Participação no programa de Pós', fontdict={'fontsize':18});"
      ],
      "metadata": {
        "id": "ZMd_zhMBgG5O"
      },
      "execution_count": null,
      "outputs": []
    },
    {
      "cell_type": "markdown",
      "source": [
        "## Suporte do PPG para publicação"
      ],
      "metadata": {
        "id": "iQPahAMHh_Vv"
      }
    },
    {
      "cell_type": "code",
      "source": [
        "suporte = pd.DataFrame({'SuportePPG': multiplas(respostas_tratadas.SuportePPG.values)})"
      ],
      "metadata": {
        "id": "egYEUh1jit-x"
      },
      "execution_count": null,
      "outputs": []
    },
    {
      "cell_type": "code",
      "source": [
        "fig, ax = plt.subplots(figsize=(6,6))\n",
        "sns.countplot(y='SuportePPG', data=suporte);\n",
        "ax.set_title('Análise de suporte oferecido pelos PPGs', fontdict={'fontsize':20})\n",
        "ax.set_xlabel('Quantidade', fontdict={'fontsize':16})\n",
        "ax.set_ylabel('Suportes oferecidos pelo PPGs', fontdict={'fontsize':18});"
      ],
      "metadata": {
        "id": "hE9chaTNlfvs"
      },
      "execution_count": null,
      "outputs": []
    },
    {
      "cell_type": "markdown",
      "source": [
        "## Informes sobre predatismo"
      ],
      "metadata": {
        "id": "Ni8-OYi_mHIn"
      }
    },
    {
      "cell_type": "code",
      "source": [
        "fig, ax = plt.subplots(figsize=(6,6))\n",
        "sns.countplot(y='InformePredatismoPPG', data=respostas_tratadas);\n",
        "ax.set_title('Análise de informes sobre predatismo', fontdict={'fontsize':20})\n",
        "ax.set_xlabel('Respostas', fontdict={'fontsize':16})\n",
        "ax.set_ylabel('Informes prestados', fontdict={'fontsize':18});"
      ],
      "metadata": {
        "id": "qw2W5BoJmTq-"
      },
      "execution_count": null,
      "outputs": []
    }
  ]
}